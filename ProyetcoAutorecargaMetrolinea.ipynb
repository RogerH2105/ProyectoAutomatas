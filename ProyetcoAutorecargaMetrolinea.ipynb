{
  "nbformat": 4,
  "nbformat_minor": 0,
  "metadata": {
    "colab": {
      "provenance": []
    },
    "kernelspec": {
      "name": "python3",
      "display_name": "Python 3"
    },
    "language_info": {
      "name": "python"
    }
  },
  "cells": [
    {
      "cell_type": "markdown",
      "source": [
        "### MEJORA A LA MÁQUINA DE AUTORECARGA METROLÍNEA\n",
        "\n",
        "# Integrantes:\n",
        "- Roger Hernández - 2220065\n",
        "- Alejandro Amaya - 2202011\n",
        "- Brayan Herrera - 2220097\n",
        "\n",
        "# Definición formal:\n",
        "\n",
        "A = ( Q , ∑ , 𝛾 , q0 , F )\n",
        "\n",
        "Q = { q0, q1, q2, q3, q4, q5, q6, q7, q8, q9, q10, q11, q12, q13, q14, q15, q16, q17, q18, q19, q20, q21, q22, q23, q24, q25, q26, q27, q28, q29, q30, q31, q32, q33, q34, q35, q36, q37, q38, q39, q40, q41, q42, q43, q44, q45, q46, q47, q48, q49, q50, q51, q52, q53, q54, q55, q56, q57, q58, q59, q60, q61, q62, q63, q64, q65, q66, q67, q68, q69, q70, q71, q72, q73, q74, q75, q76, q77, q78, q79, q80, q81, q82 }\n",
        "\n",
        "∑ = {1, 2, 5, 8, 9, a, b, c, d, e, f, g, z}\n",
        "\n",
        "F = { q8, q9, q10, q11, q12, q13, q14, q15, q16, q17, q18, q19, q20, q21, q22, q23, q24, q25, q26, q27, q28, q29, q30, q31, q32, q33, q34, q35, q36, q37, q38, q39, q40, q41, q42, q43, q44, q45, q46, q47, q48, q49, q50, q51, q52, q53, q54, q55, q56, q57, q58, q59, q60, q61, q62, q63, q64, q65, q66, q67, q68, q69, q70, q71, q72, q73, q74, q75, q76, q77, q78, q79, q80, q81, q82 }"
      ],
      "metadata": {
        "id": "wqTfRIzPO1qR"
      }
    },
    {
      "cell_type": "code",
      "execution_count": 14,
      "metadata": {
        "id": "zKHwt7--XqT2",
        "colab": {
          "base_uri": "https://localhost:8080/"
        },
        "outputId": "2adf6d5c-b51c-41b7-86c1-ceab6fa2601f"
      },
      "outputs": [
        {
          "output_type": "stream",
          "name": "stdout",
          "text": [
            "Requirement already satisfied: automata-lib in /usr/local/lib/python3.10/dist-packages (8.0.0)\n",
            "Requirement already satisfied: networkx>=2.6.2 in /usr/local/lib/python3.10/dist-packages (from automata-lib) (3.1)\n",
            "Requirement already satisfied: frozendict>=2.3.4 in /usr/local/lib/python3.10/dist-packages (from automata-lib) (2.3.8)\n",
            "Requirement already satisfied: typing-extensions>=4.5.0 in /usr/local/lib/python3.10/dist-packages (from automata-lib) (4.7.1)\n",
            "Requirement already satisfied: cached-method>=0.1.0 in /usr/local/lib/python3.10/dist-packages (from automata-lib) (0.1.0)\n"
          ]
        }
      ],
      "source": [
        "!pip install automata-lib"
      ]
    },
    {
      "cell_type": "code",
      "execution_count": 2,
      "metadata": {
        "id": "DbqKlo0_MAcY"
      },
      "outputs": [],
      "source": [
        "#@title Automata\n",
        "def automata():\n",
        "\n",
        "    from automata.fa.dfa import DFA\n",
        "    dfa = DFA(\n",
        "        states = {'q0', 'q1', 'q2', 'q3', 'q4', 'q5', 'q6', 'q7', 'q8', 'q9', 'q10', 'q11', 'q12', 'q13', 'q14', 'q15', 'q16', 'q17', 'q18', 'q19', 'q20','q21', 'q22', 'q23', 'q24',\n",
        "                      'q25', 'q26', 'q27', 'q28', 'q29', 'q30', 'q31', 'q32', 'q33', 'q34', 'q35', 'q36', 'q37', 'q38', 'q39', 'q40', 'q41',\n",
        "                      'q42', 'q43', 'q44', 'q45', 'q46', 'q47', 'q48', 'q49', 'q50', 'q51', 'q52', 'q53', 'q54', 'q55', 'q56', 'q57', 'q58',\n",
        "                      'q59', 'q60', 'q61', 'q62', 'q63', 'q64', 'q65', 'q66', 'q67', 'q68', 'q69', 'q70', 'q71', 'q72', 'q73', 'q74', 'q75',\n",
        "                      'q76', 'q77', 'q78', 'q79', 'q80', 'q81', 'q82'},\n",
        "        input_symbols={'9', '8', '5', '2', '1', 'z', 'c', 'b', 'a', 'd', 'e', 'f', 'g'},\n",
        "        transitions={\n",
        "            'q0': {'1': 'q1', '2': 'q2', '5': 'q3' , '8': 'q4', '9': 'q5', 'z': 'q32'},\n",
        "            'q1': {'1': 'q2', '2': 'q6', '5': 'q21', '8': 'q17', 'z': 'q32'},\n",
        "            'q2': {'1': 'q6', '2': 'q13', '5': 'q20', '8': 'q16', 'z': 'q32'},\n",
        "            'q3': {'1': 'q21', '2': 'q20', '5': 'q4', '8': 'q12', 'a': 'q33', 'z': 'q32'},\n",
        "            'q4': {'1': 'q17', '2': 'q16', '5': 'q12', '8': 'q5', 'a': 'q22', 'b': 'q23', 'c': 'q24', 'z': 'q32'},\n",
        "            'q5': {'a': 'q25', 'b': 'q26', 'c': 'q27', 'd': 'q28', 'e': 'q29', 'f': 'q30', 'g': 'q31', 'z': 'q32'},\n",
        "            'q6': {'1': 'q13', '2': 'q3', '5': 'q19', '8': 'q15', 'a': 'q34', 'z': 'q32'}, 'q7': {},\n",
        "            'q8': {'1': 'q5', 'a': 'q78', 'b': 'q79', 'c': 'q80', 'd': 'q81', 'e': 'q82', 'f': 'q33', 'z': 'q32'},\n",
        "            'q9': {'1': 'q8', '2': 'q5', 'a': 'q73', 'b': 'q74', 'c': 'q75', 'd': 'q76', 'e': 'q77', 'f': 'q35', 'z': 'q32'},\n",
        "            'q10': {'1': 'q9', '2': 'q8', 'a': 'q68', 'b': 'q69', 'c': 'q70', 'd': 'q71', 'e': 'q72', 'f': 'q34', 'z': 'q32'},\n",
        "            'q11': {'1': 'q10', '2': 'q9', 'a': 'q63', 'b': 'q64', 'c': 'q65', 'd': 'q66', 'e': 'q67', 'z': 'q32'},\n",
        "            'q12': {'1': 'q11', '2': 'q10', '5': 'q5', 'a': 'q58', 'b': 'q59', 'c': 'q60', 'd': 'q61', 'e': 'q62', 'z': 'q32'},\n",
        "            'q13': {'1': 'q3', '2': 'q21', '5': 'q18', '8': 'q14', 'a': 'q35', 'z': 'q32'},\n",
        "            'q14': {'1': 'q12', '2': 'q11', '5': 'q8', 'a': 'q54', 'b': 'q55', 'c': 'q56', 'd': 'q57', 'e' : 'q32', 'z': 'q32'},\n",
        "            'q15': {'1': 'q14', '2': 'q12', '5': 'q9', 'a': 'q50', 'b': 'q51', 'c': 'q52', 'd': 'q53', 'z': 'q32'},\n",
        "            'q16': {'1': 'q15', '2': 'q14', '5': 'q10', 'a': 'q46', 'b': 'q47', 'c': 'q48', 'd': 'q49', 'z': 'q32'},\n",
        "            'q17': {'1': 'q16', '2': 'q15', '5': 'q11', 'a': 'q43', 'b': 'q44', 'c': 'q45', 'z': 'q32'},\n",
        "            'q18': {'1': 'q4', '2': 'q17', '5': 'q14', '8': 'q8', 'a': 'q40', 'b': 'q41', 'c': 'q42', 'z': 'q32'},\n",
        "            'q19': {'1': 'q18', '2': 'q4', '5': 'q15', '8': 'q9', 'a': 'q38', 'b': 'q39', 'z': 'q32'},\n",
        "            'q20': {'1': 'q19', '2': 'q18', '5': 'q16', '8': 'q10', 'a': 'q36', 'b': 'q37', 'z': 'q32'},\n",
        "            'q21': {'1': 'q20', '2': 'q19', '5': 'q17', '8': 'q11', 'a': 'q30', 'b': 'q31', 'z': 'q32'},\n",
        "            'q22': {},'q23': {},'q24': {},'q25': {},'q26': {},'q27': {},'q28': {},'q29': {},'q30': {},'q31': {},'q32': {},'q33': {},'q34': {},\n",
        "            'q35': {},'q36': {},'q37': {},'q38': {},'q39': {},'q40': {},'q41': {},'q42': {},'q43': {},'q44': {},'q45': {},'q46': {},'q47': {},\n",
        "            'q48': {},'q49': {},'q50': {},'q51': {},'q52': {},'q53': {},'q54': {},'q55': {},'q56': {},'q57': {},'q58': {},'q59': {},'q60': {},\n",
        "            'q61': {},'q62': {},'q63': {},'q64': {},'q65': {},'q66': {},'q67': {},'q68': {},'q69': {},'q70': {},'q71': {},'q72': {},'q73': {},\n",
        "            'q74': {},'q75': {},'q76': {},'q77': {},'q78': {},'q79': {},'q80': {},'q81': {},'q82': {}\n",
        "          },\n",
        "        initial_state='q0',\n",
        "        final_states={'q8', 'q9', 'q10', 'q11', 'q12', 'q13', 'q14', 'q15', 'q16', 'q17', 'q18', 'q19', 'q20', 'q21', 'q22', 'q23', 'q24',\n",
        "                      'q25', 'q26', 'q27', 'q28', 'q29', 'q30', 'q31', 'q32', 'q33', 'q34', 'q35', 'q36', 'q37', 'q38', 'q39', 'q40', 'q41',\n",
        "                      'q42', 'q43', 'q44', 'q45', 'q46', 'q47', 'q48', 'q49', 'q50', 'q51', 'q52', 'q53', 'q54', 'q55', 'q56', 'q57', 'q58',\n",
        "                      'q59', 'q60', 'q61', 'q62', 'q63', 'q64', 'q65', 'q66', 'q67', 'q68', 'q69', 'q70', 'q71', 'q72', 'q73', 'q74', 'q75',\n",
        "                      'q76', 'q77', 'q78', 'q79', 'q80', 'q81', 'q82'},\n",
        "        allow_partial = True\n",
        "    )\n",
        "    return dfa\n"
      ]
    },
    {
      "cell_type": "code",
      "source": [
        "#@title Comprobar cadena\n",
        "from automata.fa.dfa import DFA\n",
        "dfa = automata();\n",
        "if dfa.accepts_input(\"25c\"):\n",
        "    print('Recarga válida')\n",
        "else:\n",
        "    print('Recarga inválida')"
      ],
      "metadata": {
        "colab": {
          "base_uri": "https://localhost:8080/"
        },
        "id": "PDqKbarWTR6N",
        "outputId": "3de38a83-a743-4b9e-aa9e-55368a29e784"
      },
      "execution_count": 17,
      "outputs": [
        {
          "output_type": "stream",
          "name": "stdout",
          "text": [
            "Recarga inválida\n"
          ]
        }
      ]
    }
  ]
}